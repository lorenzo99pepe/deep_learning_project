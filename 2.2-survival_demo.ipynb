{
 "cells": [
  {
   "cell_type": "code",
   "execution_count": null,
   "metadata": {},
   "outputs": [],
   "source": [
    "import os\n",
    "import glob\n",
    "import sys\n",
    "import numpy as np\n",
    "\n",
    "from pathlib import Path\n",
    "\n",
    "import tensorflow as tf\n",
    "from tensorflow import keras\n",
    "\n",
    "SOURCE_PATH = Path(os.getcwd()) / \"src\"\n",
    "\n",
    "if SOURCE_PATH not in sys.path:\n",
    "    sys.path.append(SOURCE_PATH)\n",
    "\n",
    "from src.survival.survival import process_and_tensorize\n",
    "\n",
    "%load_ext autoreload\n",
    "%autoreload 2"
   ]
  },
  {
   "cell_type": "code",
   "execution_count": null,
   "metadata": {},
   "outputs": [],
   "source": [
    "surv_path = Path(os.getcwd()) / \"models\" / \"survival\"\n",
    "demo_path = Path(os.getcwd()) / \"data\" / \"demo\"\n",
    "demo_image_paths = sorted(glob.glob(str(demo_path) + \"/*\"))\n",
    "\n",
    "age_list = [69.91232877, 59.69315068, 55.758904]\n",
    "survival_list = [503, 698, 368]"
   ]
  },
  {
   "cell_type": "code",
   "execution_count": null,
   "metadata": {},
   "outputs": [],
   "source": [
    "model = keras.models.load_model(surv_path)"
   ]
  },
  {
   "cell_type": "code",
   "execution_count": null,
   "metadata": {},
   "outputs": [],
   "source": [
    "img_tens, age_tens, y_tens = process_and_tensorize(demo_image_paths, age_list, survival_list)\n",
    "predicted = list(model.predict(x=[img_tens, age_tens]))"
   ]
  },
  {
   "cell_type": "code",
   "execution_count": null,
   "metadata": {},
   "outputs": [],
   "source": [
    "for i in range(len(survival_list)):\n",
    "    print(\n",
    "        f\"The predicted survival for patient {i} is\", int(predicted[i]), \"days. The actual value was\", survival_list[i], \"days.\"\n",
    "    )\n",
    "\n",
    "rmse = np.sqrt(\n",
    "    np.sum(\n",
    "        (np.array(predicted) - np.array(survival_list)) ** 2\n",
    "    ) / len(survival_list)\n",
    ")\n",
    "print(\"The RMSE is\", '{0:.2f}'.format(rmse))"
   ]
  },
  {
   "cell_type": "code",
   "execution_count": null,
   "metadata": {},
   "outputs": [],
   "source": []
  }
 ],
 "metadata": {
  "interpreter": {
   "hash": "6fb323fa912c45b314a12818cc868d02f3b91e3c272fbdc23d7431635f9015f4"
  },
  "kernelspec": {
   "display_name": "Python 3.8.8 64-bit ('base': conda)",
   "language": "python",
   "name": "python3"
  },
  "language_info": {
   "codemirror_mode": {
    "name": "ipython",
    "version": 3
   },
   "file_extension": ".py",
   "mimetype": "text/x-python",
   "name": "python",
   "nbconvert_exporter": "python",
   "pygments_lexer": "ipython3",
   "version": "3.8.8"
  },
  "orig_nbformat": 4
 },
 "nbformat": 4,
 "nbformat_minor": 2
}
