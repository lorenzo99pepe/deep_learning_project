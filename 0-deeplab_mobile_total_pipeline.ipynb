{
 "cells": [
  {
   "cell_type": "code",
   "execution_count": null,
   "metadata": {},
   "outputs": [],
   "source": [
    "import pandas as pd\n",
    "import numpy as np\n",
    "import os\n",
    "import numpy\n",
    "import matplotlib.pyplot as plt\n",
    "import SimpleITK\n",
    "import itertools\n",
    "import sys\n",
    "import torch\n",
    "from torchvision import transforms\n",
    "from PIL import Image\n",
    "from matplotlib import cm\n",
    "from torch.utils.data import DataLoader\n",
    "from torch.nn.utils.rnn import pad_sequence\n",
    "from torchvision import models\n",
    "\n",
    "from pathlib import Path\n",
    "\n",
    "SOURCE_PATH = Path(os.getcwd()) / 'src'\n",
    "\n",
    "if SOURCE_PATH not in sys.path:\n",
    "    sys.path.append(SOURCE_PATH)\n",
    "\n",
    "from src.extraction import (\n",
    "    get_images_lists_from_path,\n",
    "    get_images_lists_from_more_paths,\n",
    "    delete_bad_dirs_brats2020\n",
    ")\n",
    "\n",
    "from src.plots import (\n",
    "    plot_observation,\n",
    "    plot_deeplab_mobile_predictions\n",
    ")\n",
    "\n",
    "from src.deeplab_mobile.modelling import(\n",
    "    select_images_input,\n",
    "    get_deeplab_mobile_model,\n",
    "    train_deeplab_mobile\n",
    ")\n",
    "\n",
    "from src.deeplab_mobile.segdataset import(\n",
    "    get_mobile_dataloaders\n",
    ")\n",
    "\n",
    "from src.utils import(\n",
    "    LOGS_FILE_PATH\n",
    ")\n",
    "\n",
    "%load_ext autoreload\n",
    "%autoreload 2"
   ]
  },
  {
   "cell_type": "code",
   "execution_count": null,
   "metadata": {},
   "outputs": [],
   "source": [
    "hgg = Path(os.getcwd()) / 'data' / 'HGG'\n",
    "lgg = Path(os.getcwd()) / 'data' / 'LGG'\n",
    "two = Path(os.getcwd()) / 'data' / 'brats2020'\n",
    "hgg_2018 = Path(os.getcwd()) / 'data' / 'brats2018' / 'HGG'\n",
    "lgg_2018 = Path(os.getcwd()) / 'data' / 'brats2018' / 'LGG'"
   ]
  },
  {
   "cell_type": "code",
   "execution_count": null,
   "metadata": {},
   "outputs": [],
   "source": [
    "bad_dirs = delete_bad_dirs_brats2020(two)"
   ]
  },
  {
   "cell_type": "code",
   "execution_count": null,
   "metadata": {},
   "outputs": [],
   "source": [
    "t2, t1ce, t1, flair, seg = get_images_lists_from_path(hgg)\n",
    "t2l, t1cel, t1l, flairl, segl = get_images_lists_from_path(lgg)\n",
    "\n",
    "type_names = ['t2', 't1', 't1ce', 'flair', 'seg']\n",
    "images = [t2, t1, t1ce, flair, seg]\n",
    "imagesl = [t2l, t1l, t1cel, flairl, segl]\n",
    "all_images = get_images_lists_from_more_paths([hgg, lgg, two, hgg_2018, lgg_2018])"
   ]
  },
  {
   "cell_type": "code",
   "execution_count": null,
   "metadata": {},
   "outputs": [],
   "source": [
    "print(len(all_images[0]), 'images used')"
   ]
  },
  {
   "cell_type": "code",
   "execution_count": null,
   "metadata": {},
   "outputs": [],
   "source": [
    "plot_observation(all_images, 0)"
   ]
  },
  {
   "cell_type": "code",
   "execution_count": null,
   "metadata": {},
   "outputs": [],
   "source": [
    "plot_observation(all_images, -1)"
   ]
  },
  {
   "cell_type": "code",
   "execution_count": null,
   "metadata": {},
   "outputs": [],
   "source": [
    "plot_observation(all_images, 600)"
   ]
  },
  {
   "cell_type": "code",
   "execution_count": null,
   "metadata": {},
   "outputs": [],
   "source": [
    "type_to_use = 'flair'\n",
    "images_chosen, images_seg = select_images_input(all_images, type_names, type_to_use = type_to_use)"
   ]
  },
  {
   "cell_type": "code",
   "execution_count": null,
   "metadata": {},
   "outputs": [],
   "source": [
    "model = get_deeplab_mobile_model() "
   ]
  },
  {
   "cell_type": "code",
   "execution_count": null,
   "metadata": {},
   "outputs": [],
   "source": [
    "another = models.segmentation.deeplabv3_mobilenet_v3_large(\n",
    "    pretrained=False,\n",
    "    progress=True,\n",
    "    num_classes = 3\n",
    ")"
   ]
  },
  {
   "cell_type": "code",
   "execution_count": null,
   "metadata": {},
   "outputs": [],
   "source": [
    "dataloaders = get_mobile_dataloaders(images_chosen, images_seg)"
   ]
  },
  {
   "cell_type": "code",
   "execution_count": null,
   "metadata": {},
   "outputs": [],
   "source": [
    "train_deeplab_mobile(model, dataloaders, num_epochs=42)"
   ]
  },
  {
   "cell_type": "code",
   "execution_count": null,
   "metadata": {},
   "outputs": [],
   "source": [
    "model_exp_name = 'flair_totalpipe_nighttrain'\n",
    "torch.save(model, str(Path(os.getcwd()) / 'models' / (model_exp_name + '.pt')))"
   ]
  },
  {
   "cell_type": "code",
   "execution_count": null,
   "metadata": {},
   "outputs": [],
   "source": [
    "modelname = 'flair_totalpipe_nighttrain.pt'\n",
    "model = torch.load(Path(os.getcwd()) / 'models' / modelname)\n",
    "model.eval()"
   ]
  },
  {
   "cell_type": "code",
   "execution_count": null,
   "metadata": {},
   "outputs": [],
   "source": [
    "plot_deeplab_mobile_predictions(model, images)"
   ]
  },
  {
   "cell_type": "code",
   "execution_count": null,
   "metadata": {},
   "outputs": [],
   "source": [
    "df = pd.read_csv(LOGS_FILE_PATH)"
   ]
  },
  {
   "cell_type": "code",
   "execution_count": null,
   "metadata": {},
   "outputs": [],
   "source": [
    "df.plot(x='epoch',figsize=(15,8))"
   ]
  },
  {
   "cell_type": "code",
   "execution_count": null,
   "metadata": {},
   "outputs": [],
   "source": []
  }
 ],
 "metadata": {
  "interpreter": {
   "hash": "aee8b7b246df8f9039afb4144a1f6fd8d2ca17a180786b69acc140d282b71a49"
  },
  "kernelspec": {
   "display_name": "Python 3.8.1 64-bit",
   "language": "python",
   "name": "python3"
  },
  "language_info": {
   "codemirror_mode": {
    "name": "ipython",
    "version": 3
   },
   "file_extension": ".py",
   "mimetype": "text/x-python",
   "name": "python",
   "nbconvert_exporter": "python",
   "pygments_lexer": "ipython3",
   "version": "3.8.1"
  },
  "orig_nbformat": 4
 },
 "nbformat": 4,
 "nbformat_minor": 2
}
