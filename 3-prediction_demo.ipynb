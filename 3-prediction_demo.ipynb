{
 "cells": [
  {
   "cell_type": "code",
   "execution_count": null,
   "metadata": {},
   "outputs": [],
   "source": [
    "import pandas as pd\n",
    "import numpy as np\n",
    "import os\n",
    "import numpy\n",
    "import matplotlib.pyplot as plt\n",
    "import SimpleITK\n",
    "import itertools\n",
    "import sys\n",
    "import torch\n",
    "from torchvision import transforms\n",
    "from PIL import Image\n",
    "from matplotlib import cm\n",
    "from torch.utils.data import DataLoader\n",
    "from torch.nn.utils.rnn import pad_sequence\n",
    "\n",
    "from pathlib import Path\n",
    "\n",
    "SOURCE_PATH = Path(os.getcwd()) / 'src'\n",
    "\n",
    "if SOURCE_PATH not in sys.path:\n",
    "    sys.path.append(SOURCE_PATH)\n",
    "\n",
    "from src.extraction import (\n",
    "    get_images_lists_from_path,\n",
    "    get_images_lists_from_more_paths\n",
    ")\n",
    "\n",
    "from src.plots import (\n",
    "    plot_observation\n",
    ")\n",
    "\n",
    "from src.loading import (\n",
    "    load_images_from_paths\n",
    ")\n",
    "\n",
    "%load_ext autoreload\n",
    "%autoreload 2"
   ]
  },
  {
   "cell_type": "code",
   "execution_count": null,
   "metadata": {},
   "outputs": [],
   "source": [
    "type_to_use = 'flair'\n",
    "seg_path = Path(os.getcwd()) / 'data_extracted' / 'seg'\n",
    "input_path = Path(os.getcwd()) / 'data_extracted' / type_to_use"
   ]
  },
  {
   "cell_type": "code",
   "execution_count": null,
   "metadata": {},
   "outputs": [],
   "source": [
    "images, segs = load_images_from_paths(input_path, seg_path)\n",
    "\n",
    "# images_tensors = pad_sequence([torch.tensor(x) for x in images], batch_first=True)\n",
    "# seg_tensors = pad_sequence([torch.tensor(x) for x in segs], batch_first=True)\n",
    "# images_dataloader = DataLoader(images_tensors, batch_size=16, shuffle=True)"
   ]
  },
  {
   "cell_type": "code",
   "execution_count": null,
   "metadata": {},
   "outputs": [],
   "source": [
    "# modelname = 'weights.pt'\n",
    "#modelname = 'flair_model1.pt'\n",
    "modelname = 'flair_model1_noshuffle.pt'\n",
    "model = torch.load(Path(os.getcwd()) / 'models' / modelname)\n",
    "model.eval()"
   ]
  },
  {
   "cell_type": "code",
   "execution_count": null,
   "metadata": {},
   "outputs": [],
   "source": [
    "output_predictions.numpy().shape"
   ]
  },
  {
   "cell_type": "code",
   "execution_count": null,
   "metadata": {},
   "outputs": [],
   "source": [
    "preprocess = transforms.Compose([\n",
    "    transforms.Normalize((0.485, 0.456, 0.406), (0.229, 0.224, 0.225)),\n",
    "    transforms.ToTensor()\n",
    "    ])\n",
    "\n",
    "indexes_predict = np.arange(0, 2)\n",
    "\n",
    "for i in indexes_predict:\n",
    "    input_image = Image.fromarray(images[i])\n",
    "\n",
    "    input_tensor = preprocess(input_image)\n",
    "    input_batch = input_tensor.unsqueeze(0) \n",
    "\n",
    "    with torch.no_grad():\n",
    "        output = model(input_batch)['out'][0]\n",
    "    output_predictions = output\n",
    "\n",
    "    # create a color pallette, selecting a color for each class\n",
    "    palette = torch.tensor([2 ** 25 - 1, 2 ** 15 - 1, 2 ** 21 - 1])\n",
    "    colors = torch.as_tensor([i for i in range(21)])[:, None] * palette\n",
    "    colors = (colors % 255).numpy().astype(\"uint8\")\n",
    "\n",
    "    f, ax = plt.subplots(1, 2, figsize=(15, 4))\n",
    "    ax[0].set_title('input image')\n",
    "    ax[0].axis('off')\n",
    "    ax[0].imshow(input_image)\n",
    "    ax[1].set_title('segmented output')\n",
    "    ax[1].axis('off')\n",
    "    ax[1].imshow(torch.amax(output_predictions, 0))\n",
    "    #plt.savefig(\"segmented_output.png\", bbox_inches='tight')\n",
    "    plt.show()"
   ]
  },
  {
   "cell_type": "code",
   "execution_count": null,
   "metadata": {},
   "outputs": [],
   "source": []
  },
  {
   "cell_type": "code",
   "execution_count": null,
   "metadata": {},
   "outputs": [],
   "source": []
  }
 ],
 "metadata": {
  "interpreter": {
   "hash": "aee8b7b246df8f9039afb4144a1f6fd8d2ca17a180786b69acc140d282b71a49"
  },
  "kernelspec": {
   "display_name": "Python 3.8.1 64-bit",
   "language": "python",
   "name": "python3"
  },
  "language_info": {
   "codemirror_mode": {
    "name": "ipython",
    "version": 3
   },
   "file_extension": ".py",
   "mimetype": "text/x-python",
   "name": "python",
   "nbconvert_exporter": "python",
   "pygments_lexer": "ipython3",
   "version": "3.9.2"
  },
  "orig_nbformat": 4
 },
 "nbformat": 4,
 "nbformat_minor": 2
}
