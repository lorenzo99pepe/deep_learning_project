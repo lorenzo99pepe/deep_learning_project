{
 "cells": [
  {
   "cell_type": "code",
   "execution_count": null,
   "metadata": {},
   "outputs": [],
   "source": [
    "import os\n",
    "import glob\n",
    "import numpy as np\n",
    "import pandas as pd\n",
    "\n",
    "from pathlib import Path\n",
    "from PIL import Image\n",
    "\n",
    "import tensorflow as tf\n",
    "from tensorflow import keras"
   ]
  },
  {
   "cell_type": "code",
   "execution_count": null,
   "metadata": {},
   "outputs": [],
   "source": [
    "LABEL_PATH = Path(os.getcwd()) / \"data\" / \"labels\"\n",
    "SURVIVAL_PATH = Path(os.getcwd()) / \"data\" / \"survival_data.csv\""
   ]
  },
  {
   "cell_type": "code",
   "execution_count": null,
   "metadata": {},
   "outputs": [],
   "source": [
    "image_list = sorted(glob.glob(str(LABEL_PATH) + \"/*\"))\n",
    "df_surv = (\n",
    "    pd.read_csv(SURVIVAL_PATH)\n",
    "    .sort_values(by=\"BraTS19ID\")\n",
    "    .dropna(subset=[\"Survival\", \"Age\"])\n",
    "    .reset_index(drop=True)\n",
    ")\n",
    "y = np.array(df_surv[\"Survival\"])\n",
    "age = np.array(df_surv[\"Age\"]).reshape(-1, 1)"
   ]
  },
  {
   "cell_type": "code",
   "execution_count": null,
   "metadata": {},
   "outputs": [],
   "source": [
    "image_list_clean = []\n",
    "for id in df_surv[\"BraTS19ID\"]:\n",
    "    while True:\n",
    "        if id in image_list[0]:\n",
    "            image_list_clean.append(image_list[0])\n",
    "            del image_list[0]\n",
    "            break\n",
    "        del image_list[0]"
   ]
  },
  {
   "cell_type": "code",
   "execution_count": null,
   "metadata": {},
   "outputs": [],
   "source": [
    "X = []\n",
    "for i in range(len(image_list_clean)):\n",
    "    img = np.load(image_list_clean[i])\n",
    "    stacked = np.stack((img,) * 3, axis=-1)\n",
    "    X.append(stacked)"
   ]
  },
  {
   "cell_type": "code",
   "execution_count": null,
   "metadata": {},
   "outputs": [],
   "source": [
    "def build_model(input_img, age):\n",
    "    base_model = keras.applications.resnet50.ResNet50(\n",
    "        weights=\"imagenet\", include_top=False, input_tensor=input_img\n",
    "    )\n",
    "    a = keras.layers.GlobalAveragePooling2D()(base_model.output)\n",
    "    a = keras.layers.concatenate([a, age])\n",
    "    a = keras.layers.BatchNormalization()(a)\n",
    "    output = keras.layers.Dense(1)(a)\n",
    "\n",
    "    model = keras.models.Model(inputs=[input_img, age], outputs=output)\n",
    "    return model, base_model"
   ]
  },
  {
   "cell_type": "code",
   "execution_count": null,
   "metadata": {},
   "outputs": [],
   "source": [
    "input_img = keras.layers.Input((240, 240, 3))\n",
    "age_m = keras.layers.Input((1))"
   ]
  },
  {
   "cell_type": "code",
   "execution_count": null,
   "metadata": {},
   "outputs": [],
   "source": [
    "model, base_model = build_model(input_img, age_m)\n",
    "\n",
    "for layer in base_model.layers:\n",
    "    layer.trainable = True\n",
    "\n",
    "model.compile(\n",
    "    loss=\"mean_squared_error\",\n",
    "    optimizer=tf.keras.optimizers.Adam(),\n",
    "    metrics=[\"mean_squared_error\"],\n",
    ")\n",
    "model.summary()"
   ]
  },
  {
   "cell_type": "code",
   "execution_count": null,
   "metadata": {},
   "outputs": [],
   "source": [
    "X_ten = keras.backend.constant(X)\n",
    "age_ten = keras.backend.constant(age)\n",
    "target = keras.backend.constant(np.array([int(lab) for lab in y]))"
   ]
  },
  {
   "cell_type": "code",
   "execution_count": null,
   "metadata": {},
   "outputs": [],
   "source": [
    "history = model.fit(\n",
    "    x=[X_ten, age_ten], y=target, epochs=25, validation_split=0.2, batch_size=8\n",
    ")"
   ]
  },
  {
   "cell_type": "code",
   "execution_count": null,
   "metadata": {},
   "outputs": [],
   "source": [
    "model.save(os.getcwd() + \"/models\" + \"/survival\")"
   ]
  },
  {
   "cell_type": "code",
   "execution_count": null,
   "metadata": {},
   "outputs": [],
   "source": []
  }
 ],
 "metadata": {
  "interpreter": {
   "hash": "255578d400423fe35d902fb696887f865abb313d827337ddf8dbb5fd88671e09"
  },
  "kernelspec": {
   "display_name": "Python 3.9.2 64-bit",
   "language": "python",
   "name": "python3"
  },
  "language_info": {
   "codemirror_mode": {
    "name": "ipython",
    "version": 3
   },
   "file_extension": ".py",
   "mimetype": "text/x-python",
   "name": "python",
   "nbconvert_exporter": "python",
   "pygments_lexer": "ipython3",
   "version": "3.8.8"
  },
  "orig_nbformat": 4
 },
 "nbformat": 4,
 "nbformat_minor": 2
}
