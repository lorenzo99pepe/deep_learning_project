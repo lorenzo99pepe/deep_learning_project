{
 "cells": [
  {
   "cell_type": "code",
   "execution_count": 3,
   "metadata": {},
   "outputs": [],
   "source": [
    "import pandas as pd\n",
    "import numpy as np\n",
    "import os\n",
    "import numpy\n",
    "import matplotlib.pyplot as plt\n",
    "import SimpleITK\n",
    "import itertools\n",
    "import sys\n",
    "import torch\n",
    "from torchvision import transforms\n",
    "from PIL import Image\n",
    "from matplotlib import cm\n",
    "from torch.utils.data import DataLoader\n",
    "from torch.nn.utils.rnn import pad_sequence\n",
    "\n",
    "from pathlib import Path\n",
    "\n",
    "SOURCE_PATH = Path(os.getcwd()) / 'src'\n",
    "\n",
    "if SOURCE_PATH not in sys.path:\n",
    "    sys.path.append(SOURCE_PATH)\n",
    "\n",
    "from src.extraction import (\n",
    "    get_images_lists_from_path,\n",
    "    get_images_lists_from_more_paths\n",
    ")\n",
    "\n",
    "from src.plots import (\n",
    "    plot_observation\n",
    ")\n",
    "\n",
    "from src.loading import (\n",
    "    load_images_from_paths\n",
    ")\n",
    "\n",
    "from src.modelling import (\n",
    "    deeplab_finetuning\n",
    ")\n",
    "\n",
    "%load_ext autoreload\n",
    "%autoreload 2"
   ]
  },
  {
   "cell_type": "code",
   "execution_count": 5,
   "metadata": {},
   "outputs": [
    {
     "name": "stdout",
     "output_type": "stream",
     "text": [
      "Model Created\n",
      "Parameters defined\n",
      "Dataloaders created\n",
      "Epoch 1/2\n",
      "----------\n"
     ]
    },
    {
     "name": "stderr",
     "output_type": "stream",
     "text": [
      "100%|██████████| 17/17 [39:47<00:00, 140.44s/it]\n"
     ]
    },
    {
     "name": "stdout",
     "output_type": "stream",
     "text": [
      "Train Loss: 0.0258\n"
     ]
    },
    {
     "name": "stderr",
     "output_type": "stream",
     "text": [
      "100%|██████████| 5/5 [01:47<00:00, 21.52s/it]\n"
     ]
    },
    {
     "name": "stdout",
     "output_type": "stream",
     "text": [
      "Test Loss: 0.0067\n",
      "{'epoch': 1, 'Train_loss': 0.025778423994779587, 'Test_loss': 0.006651636678725481, 'Train_f1_score': 0.07103192660274235, 'Test_f1_score': 0.027228967132766235}\n",
      "Epoch 2/2\n",
      "----------\n"
     ]
    },
    {
     "name": "stderr",
     "output_type": "stream",
     "text": [
      " 41%|████      | 7/17 [14:15<20:54, 125.43s/it]"
     ]
    }
   ],
   "source": [
    "path = Path(os.getcwd()) / 'data_extracted'\n",
    "type_to_use = 'flair'\n",
    "\n",
    "deeplab_finetuning(\n",
    "    path, \n",
    "    type_to_use, \n",
    "    'seg', \n",
    "    'models', \n",
    "    model_exp_name='flair_model1',\n",
    "    pretrained=False,\n",
    "    epochs=2, \n",
    "    batch_size=16)"
   ]
  },
  {
   "cell_type": "code",
   "execution_count": null,
   "metadata": {},
   "outputs": [],
   "source": [
    "# path = Path(os.getcwd()) / 'data_extracted'\n",
    "# type_to_use = 'flair'\n",
    "\n",
    "# deeplab_finetuning(\n",
    "#     path, \n",
    "#     type_to_use, \n",
    "#     'seg', \n",
    "#     'models', \n",
    "#     model_exp_name='flair_model1_pretrained', \n",
    "#     epochs=2, \n",
    "#     batch_size=16,\n",
    "#     pretrained=True)"
   ]
  },
  {
   "cell_type": "code",
   "execution_count": null,
   "metadata": {},
   "outputs": [],
   "source": [
    "modelname = 'flair_model1.pt'\n",
    "model = torch.load(Path(os.getcwd()) / 'models' / modelname)"
   ]
  },
  {
   "cell_type": "code",
   "execution_count": null,
   "metadata": {},
   "outputs": [],
   "source": [
    "model"
   ]
  },
  {
   "cell_type": "code",
   "execution_count": null,
   "metadata": {},
   "outputs": [],
   "source": []
  }
 ],
 "metadata": {
  "interpreter": {
   "hash": "aee8b7b246df8f9039afb4144a1f6fd8d2ca17a180786b69acc140d282b71a49"
  },
  "kernelspec": {
   "display_name": "Python 3.8.1 64-bit",
   "language": "python",
   "name": "python3"
  },
  "language_info": {
   "codemirror_mode": {
    "name": "ipython",
    "version": 3
   },
   "file_extension": ".py",
   "mimetype": "text/x-python",
   "name": "python",
   "nbconvert_exporter": "python",
   "pygments_lexer": "ipython3",
   "version": "3.8.1"
  },
  "orig_nbformat": 4
 },
 "nbformat": 4,
 "nbformat_minor": 2
}
