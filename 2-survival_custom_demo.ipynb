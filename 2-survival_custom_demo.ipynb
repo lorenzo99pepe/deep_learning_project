{
 "cells": [
  {
   "cell_type": "code",
   "execution_count": null,
   "metadata": {},
   "outputs": [],
   "source": [
    "import pandas as pd\n",
    "import numpy as np\n",
    "import os\n",
    "import numpy\n",
    "import matplotlib.pyplot as plt\n",
    "import SimpleITK\n",
    "import itertools\n",
    "import sys\n",
    "import torch\n",
    "from torchvision import transforms\n",
    "from PIL import Image\n",
    "from matplotlib import cm\n",
    "from torch.utils.data import DataLoader\n",
    "from torch.nn.utils.rnn import pad_sequence\n",
    "from torchvision import models\n",
    "\n",
    "from pathlib import Path\n",
    "\n",
    "SOURCE_PATH = Path(os.getcwd()) / 'src'\n",
    "\n",
    "if SOURCE_PATH not in sys.path:\n",
    "    sys.path.append(SOURCE_PATH)\n",
    "\n",
    "from src.extraction import (\n",
    "    extract_images_in_survival_order,\n",
    "    export_images_list_jpeg,\n",
    ")\n",
    "\n",
    "\n",
    "from src.survival.survival_custom import (\n",
    "    get_survival_dataloaders,\n",
    "    SurvivalNet)\n",
    "\n",
    "from src.utils import(\n",
    "    LOGS_FILE_PATH,\n",
    "    TYPE_NAMES\n",
    ")\n",
    "\n",
    "%load_ext autoreload\n",
    "%autoreload 2"
   ]
  },
  {
   "cell_type": "code",
   "execution_count": null,
   "metadata": {},
   "outputs": [],
   "source": [
    "data_path = Path(os.getcwd()) / 'data' / 'HGG'\n",
    "survival = pd.read_csv(data_path.parent /'survival_data.csv')"
   ]
  },
  {
   "cell_type": "code",
   "execution_count": null,
   "metadata": {},
   "outputs": [],
   "source": [
    "dir_ids = survival['BraTS19ID']"
   ]
  },
  {
   "cell_type": "code",
   "execution_count": null,
   "metadata": {},
   "outputs": [],
   "source": [
    "t2, t1ce, t1, flair, seg = extract_images_in_survival_order(data_path, dir_ids)\n",
    "images = [t2, t1ce, t1, flair, seg]"
   ]
  },
  {
   "cell_type": "code",
   "execution_count": null,
   "metadata": {},
   "outputs": [],
   "source": [
    "for i in range(len(TYPE_NAMES)):\n",
    "    survival[TYPE_NAMES[i]] = images[i] "
   ]
  },
  {
   "cell_type": "code",
   "execution_count": null,
   "metadata": {},
   "outputs": [],
   "source": [
    "modelname = 'flair_totalpipe_nighttrain.pt'\n",
    "model = torch.load(Path(os.getcwd()) / 'models' / modelname)\n",
    "model.eval()"
   ]
  },
  {
   "cell_type": "code",
   "execution_count": null,
   "metadata": {},
   "outputs": [],
   "source": [
    "flair_segout = []\n",
    "\n",
    "for i in range(len(survival)):\n",
    "    input_tensor = torch.tensor(survival['flair'][i]).expand(3, -1, -1).type(torch.ShortTensor).float().unsqueeze(0)\n",
    "    with torch.no_grad():\n",
    "        output = model(input_tensor)['out'][0][0]\n",
    "    flair_segout.append(np.array(output))\n",
    "\n",
    "survival['flair_seg'] = flair_segout"
   ]
  },
  {
   "cell_type": "code",
   "execution_count": null,
   "metadata": {},
   "outputs": [],
   "source": [
    "survival = survival.dropna().reset_index(drop=True)\n",
    "survival['Survival'] = survival['Survival'].apply(lambda x: str(x))"
   ]
  },
  {
   "cell_type": "code",
   "execution_count": null,
   "metadata": {},
   "outputs": [],
   "source": [
    "to_drop = []\n",
    "for i in range(len(survival)):\n",
    "    if 'ALIVE' in survival['Survival'].loc[i]:\n",
    "        to_drop.append(i)\n",
    "        \n",
    "        \n",
    "survival.drop(to_drop, inplace=True)\n",
    "print(len(survival))"
   ]
  },
  {
   "cell_type": "code",
   "execution_count": null,
   "metadata": {},
   "outputs": [],
   "source": [
    "survival['Survival'] = survival['Survival'].apply(lambda x: int(x))"
   ]
  },
  {
   "cell_type": "code",
   "execution_count": null,
   "metadata": {},
   "outputs": [],
   "source": [
    "modelname = \"custom_made_survivalnet_final.pt\"\n",
    "net = torch.load(Path(os.getcwd()) / \"models\" / modelname)\n",
    "net.eval()"
   ]
  },
  {
   "cell_type": "code",
   "execution_count": null,
   "metadata": {},
   "outputs": [],
   "source": [
    "dataloaders = get_survival_dataloaders(survival['flair_seg'].values, survival['Survival'].values)"
   ]
  },
  {
   "cell_type": "code",
   "execution_count": null,
   "metadata": {},
   "outputs": [],
   "source": [
    "print('prediction', net(dataloaders['Test'].dataset[0]['image'].unsqueeze(0).float()))\n",
    "print('target', dataloaders['Test'].dataset[0]['target'])"
   ]
  },
  {
   "cell_type": "code",
   "execution_count": null,
   "metadata": {},
   "outputs": [],
   "source": []
  }
 ],
 "metadata": {
  "interpreter": {
   "hash": "aee8b7b246df8f9039afb4144a1f6fd8d2ca17a180786b69acc140d282b71a49"
  },
  "kernelspec": {
   "display_name": "Python 3.8.1 64-bit",
   "language": "python",
   "name": "python3"
  },
  "language_info": {
   "codemirror_mode": {
    "name": "ipython",
    "version": 3
   },
   "file_extension": ".py",
   "mimetype": "text/x-python",
   "name": "python",
   "nbconvert_exporter": "python",
   "pygments_lexer": "ipython3",
   "version": "3.8.1"
  },
  "orig_nbformat": 4
 },
 "nbformat": 4,
 "nbformat_minor": 2
}
