{
 "cells": [
  {
   "cell_type": "code",
   "execution_count": 78,
   "metadata": {},
   "outputs": [],
   "source": [
    "import os\n",
    "import glob\n",
    "import numpy as np\n",
    "import SimpleITK\n",
    "\n",
    "from PIL import Image\n",
    "from matplotlib import pyplot as plt\n",
    "from matplotlib import cm"
   ]
  },
  {
   "cell_type": "code",
   "execution_count": 93,
   "metadata": {},
   "outputs": [],
   "source": [
    "filepaths = glob.glob(os.getcwd() + \"/data/*/*/*\")"
   ]
  },
  {
   "cell_type": "code",
   "execution_count": 82,
   "metadata": {},
   "outputs": [],
   "source": [
    "def get_images_from_path(pathlist, idxslice=105):\n",
    "    \"\"\"\n",
    "    Args:\n",
    "        my_path (str): Path of the major folder containing the subfolders (HGG in our case)\n",
    "        idxslice (int): Time of the image to select, \n",
    "                        105 should be the max extension of the registration by the machine so is good\n",
    "\n",
    "    \"\"\"\n",
    "    home = os.getcwd()\n",
    "    for file in pathlist:\n",
    "        img = SimpleITK.ReadImage(file)\n",
    "        myarray = SimpleITK.GetArrayFromImage(img[:, :, idxslice])\n",
    "        im = Image.fromarray(np.uint8(cm.gist_earth(myarray/np.max(myarray+1))*255)[:, :, :3])\n",
    "        filename = file.split(\"\\\\\")[-1].split(\".\")[0] + \".jpg\"\n",
    "\n",
    "        if 'seg' in str(file):\n",
    "            im.save(home + \"/data/labels/\" + filename)\n",
    "        else:\n",
    "            im.save(home + \"/data/train/\" + filename)\n"
   ]
  },
  {
   "cell_type": "code",
   "execution_count": 83,
   "metadata": {},
   "outputs": [],
   "source": [
    "get_images_from_path(filepaths)"
   ]
  }
 ],
 "metadata": {
  "interpreter": {
   "hash": "6beef22081dcda3d8cc174d0c103847ec60d36ab511a6fa93731d441145bd645"
  },
  "kernelspec": {
   "display_name": "Python 3.9.9 64-bit (windows store)",
   "language": "python",
   "name": "python3"
  },
  "language_info": {
   "codemirror_mode": {
    "name": "ipython",
    "version": 3
   },
   "file_extension": ".py",
   "mimetype": "text/x-python",
   "name": "python",
   "nbconvert_exporter": "python",
   "pygments_lexer": "ipython3",
   "version": "3.9.9"
  },
  "orig_nbformat": 4
 },
 "nbformat": 4,
 "nbformat_minor": 2
}
